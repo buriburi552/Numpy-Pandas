{
 "cells": [
  {
   "cell_type": "markdown",
   "id": "ac900a98",
   "metadata": {},
   "source": [
    "series\n"
   ]
  },
  {
   "cell_type": "raw",
   "id": "f002d58f",
   "metadata": {},
   "source": [
    "import pandas as pd \n",
    "import numpy as np"
   ]
  },
  {
   "cell_type": "raw",
   "id": "26613b42",
   "metadata": {},
   "source": [
    "to convert the data(lists,dict,numpy,array)\n",
    "np.Series(data= list/array/dict,index=any-data)"
   ]
  },
  {
   "cell_type": "markdown",
   "id": "8718d720",
   "metadata": {},
   "source": [
    "dataframes"
   ]
  },
  {
   "cell_type": "raw",
   "id": "960cbafb",
   "metadata": {},
   "source": []
  },
  {
   "cell_type": "raw",
   "id": "3379b070",
   "metadata": {},
   "source": []
  },
  {
   "cell_type": "raw",
   "id": "baf56248",
   "metadata": {},
   "source": []
  },
  {
   "cell_type": "raw",
   "id": "f56f9093",
   "metadata": {},
   "source": []
  },
  {
   "cell_type": "raw",
   "id": "5ba89e2a",
   "metadata": {},
   "source": []
  },
  {
   "cell_type": "raw",
   "id": "12a6e6cb",
   "metadata": {},
   "source": []
  },
  {
   "cell_type": "raw",
   "id": "aa5aad75",
   "metadata": {},
   "source": []
  },
  {
   "cell_type": "raw",
   "id": "c18bc5d8",
   "metadata": {},
   "source": []
  },
  {
   "cell_type": "raw",
   "id": "89da422d",
   "metadata": {},
   "source": []
  },
  {
   "cell_type": "code",
   "execution_count": null,
   "id": "32aacb4c",
   "metadata": {},
   "outputs": [],
   "source": []
  },
  {
   "cell_type": "raw",
   "id": "2167d648",
   "metadata": {},
   "source": []
  }
 ],
 "metadata": {
  "kernelspec": {
   "display_name": "Python 3 (ipykernel)",
   "language": "python",
   "name": "python3"
  },
  "language_info": {
   "codemirror_mode": {
    "name": "ipython",
    "version": 3
   },
   "file_extension": ".py",
   "mimetype": "text/x-python",
   "name": "python",
   "nbconvert_exporter": "python",
   "pygments_lexer": "ipython3",
   "version": "3.9.7"
  }
 },
 "nbformat": 4,
 "nbformat_minor": 5
}
